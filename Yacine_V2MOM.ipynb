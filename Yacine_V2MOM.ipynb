{
 "cells": [
  {
   "cell_type": "markdown",
   "metadata": {},
   "source": [
    "# Yacine's V2MOM for the AI squad"
   ]
  },
  {
   "cell_type": "markdown",
   "metadata": {},
   "source": [
    "## Vision\n",
    "\n",
    "- We want to become the IA consultancy of reference in Strasbourg, in France, and in Europe\n",
    "- We want to make our life and our clients life easier by adding value to their and our workflows, processes, and products\n",
    "- We want to be a force for good through open-source and ethical AI\n",
    "\n",
    "## Values\n",
    "\n",
    "- **Fun**: We want to have fun at work, and we want our clients to have fun working with us, \"wow effect\" all the way !\n",
    "- **Expertise**: Through constant learning and developing, we want to be the best at what we do\n",
    "- **Ethics**: We respect our clients, our colleagues, the environment, our clients customers, etc. privacy and we build products that don't harm others\n",
    "\n",
    "## Methods\n",
    "\n",
    "- **Artficacts**: Every time we look into something, whether it's technical watch, improvning or developing a product, we create reusable artifacts that we can use for future projects and that will help us accelerate our work \n",
    "- **Comunication**: We communicate a lot within the squad, within Reboot, with our clients, with the industry, with the open-source community, and with the World\n",
    "- **Infrastructure**: We need to step up our game in CI/CD, MLOps, etc. to be able to deliver faster and better\n",
    "- **Open-Source**: If an artifact is not business-critical, we open-source it\n",
    "- **Planning**: We plan our work and we work our plan\n",
    "- **Profit**: We need to make money quick to be able to sustain our growth and our development (quick wins, long term vision)\n",
    "- **Technical Watch**: We will deal with the latest technologies and we will be on the lookout for the next big thing\n",
    "\n",
    "## Obstacles\n",
    "\n",
    "- **Dispersion**: What can happen if we display a lot of energy without producing artifacts\n",
    "- **Lack of focus on profit**: It is vital that we have money on our mind, at least when we launch a new iteration\n",
    "- **Managing other work obligations**: We all have other work obligations, we need to be able to manage them\n",
    "- **No communication**: If we don't communicate, we can't work together\n",
    "- **No discipline**: If we all agree to do things a certain way and within a given time frame, we need to deliver and follow the initial plan; if the plan needs to be changed, this needs to be done in an organized way\n",
    "- **No profit**: We make no money, we can't sustain our growth\n",
    "- **Poor planning and workload evaluation**: We can be either too ambitious at a given step, or not ambitious enough, tackling on a new iteration should be done with care\n",
    "- **Solo work**: Brilliant minds can do stuff\n",
    "\n",
    "## Measures\n",
    "\n",
    "- Is every squad member happy ?\n",
    "- Are we making money ?\n",
    "- Are we producing reusable artifacts ? (courses, blog posts, open-source projects, clients products, etc.)\n",
    "- Do we communicate regularly on various channels ?\n",
    "- Hackathons, Tech Party Days, etc.\n"
   ]
  },
  {
   "cell_type": "markdown",
   "metadata": {},
   "source": [
    "## Headline\n",
    "\n",
    "![headline](./headline.png)"
   ]
  },
  {
   "cell_type": "markdown",
   "metadata": {},
   "source": [
    "## What is important to us ?\n",
    "\n",
    "- **Expertise**\n",
    "- **Fun**\n",
    "- **Solidarity**"
   ]
  },
  {
   "cell_type": "markdown",
   "metadata": {},
   "source": [
    "## New values that need to be internalized\n",
    "\n",
    "- **Communication**\n",
    "- **Discipline**\n",
    "\n",
    "While we are above average, considering many other organizations, we have room for improvement on these two values."
   ]
  },
  {
   "cell_type": "markdown",
   "metadata": {},
   "source": [
    "## Values for transformation\n",
    "\n",
    "### Corporate\n",
    "\n",
    "- **Strategy**\n",
    "- **Resolve**\n",
    "- **Adaptability**\n",
    "\n",
    "### Personal\n",
    "\n",
    "- **Self-Care**\n",
    "- **Purpose**\n",
    "- **Frankness** (with self and others)\n",
    "\n",
    "### Community\n",
    "\n",
    "- **Responsibility**\n",
    "- **Respect**"
   ]
  },
  {
   "cell_type": "markdown",
   "metadata": {},
   "source": [
    "## Methods and measurements\n",
    "\n",
    "As a reminder, this is what I think we should measure:\n",
    "\n",
    "- Are we making money or taking steps to make money ?\n",
    "- Are we producing reusable artifacts ? (courses, blog posts, open-source projects, clients products, etc.)\n",
    "- Do we communicate regularly on various channels ?\n",
    "- Is every squad member happy ?\n",
    "\n",
    "### Are we making money or taking steps to make money ?\n",
    "\n",
    "... 🤷 I have absolutely no competence on this, I suppose we would plan something like \"we need to make X euros by the end of the year\" and then we would plan iterations to reach that goal. But I don't want to say anything stupid here.\n",
    "\n",
    "### Are we producing reusable artifacts ? (courses, blog posts, open-source projects, clients products, etc.)\n",
    "\n",
    "The field of AI is rapidly evolving, so it's crucial we maintain a thorough technical watch at all times.\n",
    "\n",
    "What I have in mind is that we will maintain a [list of items to look into](https://rebootconseilcom.sharepoint.com/:fl:/g/contentstorage/CSP_f214a058-8405-4e4d-ae23-cca57398d5b9/EWisHKKp16xBjVbB4VR6MEgBPiD0W2ry6dbPrVizpL39Qg?e=NNt8IO&nav=cz0lMkZjb250ZW50c3RvcmFnZSUyRkNTUF9mMjE0YTA1OC04NDA1LTRlNGQtYWUyMy1jY2E1NzM5OGQ1YjkmZD1iJTIxV0tBVThnV0VUVTZ1STh5bGM1alZ1WHFNVnlJOWRhOURydnlENFlnUDFaS2NHM1Y3U2FZY1RMRDJrMy0xYjlKViZmPTAxUEwyUElFVElWUU9LRktPWFZSQVkyVldCNEZLSFVNQ0kmYz0lMkYmYT1Mb29wQXBwJng9JTdCJTIydyUyMiUzQSUyMlQwUlRVSHh5WldKdmIzUmpiMjV6Wldsc1kyOXRMbk5vWVhKbGNHOXBiblF1WTI5dGZHSWhWMHRCVlRoblYwVlVWVFoxU1RoNWJHTTFhbFoxV0hGTlZubEpPV1JoT1VSeWRubEVORmxuVURGYVMyTkhNMVkzVTJGWlkxUk1SREpyTXkweFlqbEtWbnd3TVZCTU1sQkpSVkpCUnpKWlV6UldOVVpVUmtaTVNFWktVa2t5V2xZMlRraEglMjIlMkMlMjJpJTIyJTNBJTIyNjQ2ODg4MzktMGNkYi00YWFiLTg2NzYtYzYyMzZmMmMzZmUzJTIyJTdE):\n",
    "\n",
    "- each squad member will assign himself one or several items to look into\n",
    "- each item will have a planned date of completion\n",
    "- each item will produce an artifact (blog article, reusable code, project, etc.)\n",
    "- each artifact will be shared with the squad and the rest of the company\n",
    "\n",
    "We could measure this by looking at the number of artifacts produced, the number of artifacts that are reused in other projects, the number of items completed, the evaluation of items time estimation, etc.\n",
    "\n",
    "### Do we communicate regularly on various channels ?\n",
    "\n",
    "This can be easily measured by the frequency of publications by channel.\n",
    "\n",
    "### Is every squad member happy ?\n",
    "\n",
    "Regular surveys with a few questions and free form fields can help us measure this."
   ]
  },
  {
   "cell_type": "markdown",
   "metadata": {},
   "source": [
    "## Focus on obstacles\n",
    "\n",
    "How can we achieve such radical transformation while keeping business as usual ? How do we handle failure ? How do we handle success ? How do we handle the unexpected ? We already have competitors that sell data science and machine learning services: how do we differentiate ourselves from them ?\n",
    "\n",
    "How to spot which technologies are worth looking into ? \n",
    "\n",
    "How to convince clients to use our services and to undergo a digital transformation driven by AI ?"
   ]
  },
  {
   "cell_type": "markdown",
   "metadata": {},
   "source": [
    "## What do I think is important for our customers ?\n",
    "\n",
    "- **Branding**\n",
    "- **Data insights**\n",
    "- **Happinness at work**\n",
    "- **Competitive advantage**\n",
    "- **Cost reduction**\n",
    "- **Productivity**"
   ]
  }
 ],
 "metadata": {
  "language_info": {
   "name": "python"
  }
 },
 "nbformat": 4,
 "nbformat_minor": 2
}
